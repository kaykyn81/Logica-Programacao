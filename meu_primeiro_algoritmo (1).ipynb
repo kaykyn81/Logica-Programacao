{
  "nbformat": 4,
  "nbformat_minor": 0,
  "metadata": {
    "colab": {
      "provenance": []
    },
    "kernelspec": {
      "name": "python3",
      "display_name": "Python 3"
    },
    "language_info": {
      "name": "python"
    }
  },
  "cells": [
    {
      "cell_type": "code",
      "execution_count": null,
      "metadata": {
        "colab": {
          "base_uri": "https://localhost:8080/"
        },
        "id": "pzK4dHexSG_Z",
        "outputId": "b4e8e734-a61f-4ec3-80dd-8204106a32d0",
        "collapsed": true
      },
      "outputs": [
        {
          "output_type": "stream",
          "name": "stdout",
          "text": [
            "\n",
            "--- Calculadora Inteligente ---\n",
            "Escolha uma operação:\n",
            "1. Adição\n",
            "2. Subtração\n",
            "3. Multiplicação\n",
            "4. Divisão\n",
            "5. Sair\n",
            "Digite o número da operação desejada: 2\n",
            "Digite o primeiro número: 23\n",
            "Digite o segundo número: 3\n",
            "O resultado da subtração é: 20.0\n",
            "\n",
            "--- Calculadora Inteligente ---\n",
            "Escolha uma operação:\n",
            "1. Adição\n",
            "2. Subtração\n",
            "3. Multiplicação\n",
            "4. Divisão\n",
            "5. Sair\n"
          ]
        }
      ],
      "source": [
        "def calculadora():\n",
        "    while True:\n",
        "        print(\"\\n--- Calculadora Inteligente ---\")\n",
        "        print(\"Escolha uma operação:\")\n",
        "        print(\"1. Adição\")\n",
        "        print(\"2. Subtração\")\n",
        "        print(\"3. Multiplicação\")\n",
        "        print(\"4. Divisão\")\n",
        "        print(\"5. Sair\")\n",
        "\n",
        "        escolha = input(\"Digite o número da operação desejada: \")\n",
        "\n",
        "        if escolha == '5':\n",
        "            print(\"Saindo da calculadora. Até mais!\")\n",
        "            break\n",
        "\n",
        "        if escolha not in ['1', '2', '3', '4']:\n",
        "            print(\"Opção inválida. Por favor, escolha uma operação válida.\")\n",
        "            continue\n",
        "\n",
        "        try:\n",
        "            num1 = float(input(\"Digite o primeiro número: \"))\n",
        "            num2 = float(input(\"Digite o segundo número: \"))\n",
        "        except ValueError:\n",
        "            print(\"Entrada inválida. Por favor, insira números válidos.\")\n",
        "            continue\n",
        "\n",
        "        if escolha == '1':\n",
        "            resultado = num1 + num2\n",
        "            print(f\"O resultado da adição é: {resultado}\")\n",
        "        elif escolha == '2':\n",
        "            resultado = num1 - num2\n",
        "            print(f\"O resultado da subtração é: {resultado}\")\n",
        "        elif escolha == '3':\n",
        "            resultado = num1 * num2\n",
        "            print(f\"O resultado da multiplicação é: {resultado}\")\n",
        "        elif escolha == '4':\n",
        "            if num2 == 0:\n",
        "                print(\"Erro: Divisão por zero não é permitida.\")\n",
        "            else:\n",
        "                resultado = num1 / num2\n",
        "                print(f\"O resultado da divisão é: {resultado}\")\n",
        "\n",
        "# Executa a função da calculadora\n",
        "calculadora()\n"
      ]
    }
  ]
}